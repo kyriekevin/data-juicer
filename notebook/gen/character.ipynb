{
 "cells": [
  {
   "cell_type": "code",
   "execution_count": 1,
   "metadata": {},
   "outputs": [
    {
     "name": "stderr",
     "output_type": "stream",
     "text": [
      "/Volumes/study/github/data-juicer/.venv/lib/python3.11/site-packages/tqdm/auto.py:21: TqdmWarning: IProgress not found. Please update jupyter and ipywidgets. See https://ipywidgets.readthedocs.io/en/stable/user_install.html\n",
      "  from .autonotebook import tqdm as notebook_tqdm\n"
     ]
    }
   ],
   "source": [
    "import transformers\n",
    "from transformers import AutoTokenizer, AutoModelForCausalLM"
   ]
  },
  {
   "cell_type": "code",
   "execution_count": 2,
   "metadata": {},
   "outputs": [],
   "source": [
    "model_config = {\n",
    "    \"stop_tokens\": [\"<|im_start|>\", \"<|im_end|>\", \"<|endoftext|>\"],\n",
    "    \"stop_token_ids\": [151643, 151644, 151645],\n",
    "    \"stop_tokens_assistant\": [\"Assistant\", \"assistant\"],\n",
    "    \"pre_query_template\": \"<|im_start|>system\\nYou are Qwen, created by Alibaba Cloud. You are a helpful assistant.<|im_end|>\\n<|im_start|>user\\n\",\n",
    "}\n",
    "model_path = \"../../models/Qwen2.5-3B-Instruct\""
   ]
  },
  {
   "cell_type": "code",
   "execution_count": 3,
   "metadata": {},
   "outputs": [
    {
     "name": "stderr",
     "output_type": "stream",
     "text": [
      "Loading checkpoint shards: 100%|██████████| 2/2 [00:06<00:00,  3.23s/it]\n",
      "Device set to use mps\n"
     ]
    },
    {
     "name": "stdout",
     "output_type": "stream",
     "text": [
      "<|im_start|>system\n",
      "You are Qwen, created by Alibaba Cloud. You are a helpful assistant.<|im_end|>\n",
      "<|im_start|>user\n",
      "\n"
     ]
    }
   ],
   "source": [
    "tokenizer = AutoTokenizer.from_pretrained(model_path)\n",
    "pipeline = transformers.pipeline(\n",
    "    \"text-generation\", model=model_path, tokenizer=tokenizer, device=\"mps\"\n",
    ")\n",
    "pre_query_template = model_config[\"pre_query_template\"]\n",
    "print(pre_query_template)"
   ]
  },
  {
   "cell_type": "code",
   "execution_count": 4,
   "metadata": {},
   "outputs": [
    {
     "name": "stdout",
     "output_type": "stream",
     "text": [
      "Extracted Instruction: Is there a way to determine if something is happening inside a cloud or not based on its image? Given an image, how can you tell if the objects in it are inside or outside a cloud?\n"
     ]
    }
   ],
   "source": [
    "instruction = pipeline(\n",
    "    pre_query_template,\n",
    "    max_new_tokens=2048,\n",
    "    eos_token_id=tokenizer.eos_token_id,\n",
    "    do_sample=True,\n",
    "    temperature=1,\n",
    "    top_p=1,\n",
    ")\n",
    "\n",
    "sanitized_instruction = instruction[0][\"generated_text\"][\n",
    "    len(pre_query_template) :\n",
    "].split(\"\\n\")[0]\n",
    "print(f\"Extracted Instruction: {sanitized_instruction}\")"
   ]
  },
  {
   "cell_type": "code",
   "execution_count": 5,
   "metadata": {},
   "outputs": [
    {
     "name": "stderr",
     "output_type": "stream",
     "text": [
      "Loading checkpoint shards: 100%|██████████| 2/2 [00:06<00:00,  3.21s/it]\n"
     ]
    },
    {
     "name": "stdout",
     "output_type": "stream",
     "text": [
      "User's message: Is there a way to determine if something is happening inside a cloud or not based on its image? Given an image, how can you tell if the objects in it are inside or outside a cloud?\n",
      "--------------------------------------------------------------------------------------------------------------------------------------------------------------------------------------------------------\n",
      "\n",
      "Assitant's response: 抱歉，作为侦探小五郎之子，我柯南拥有成为世界第一 detective的才能，但我的知识和技术目前仅限于犯罪现场调查、逻辑推理以及使用最新的科学技术。图像分析，特别是对于确定物体是否位于云层内部或外部，超出了我的能力范围。\n",
      "\n",
      "要判断一个物体是在云层内还是外，通常需要专业的气象学知识和设备。例如，可以通过卫星图像或雷达扫描来观察云层结构和厚度。这些技术能够提供关于云层内空气密度和温度变化的信息，从而帮助识别出物体是否位于云层之内。\n",
      "\n",
      "在实际案例中，我会依赖各种线索和信息来源，如目击者的证词、环境证据（如脚印、衣物碎片等）以及科学检测结果，而不是仅仅依靠图像分析。如果遇到这种情况，我会建议咨询气象专家或相关领域的专业人士来进行准确判断。\n"
     ]
    }
   ],
   "source": [
    "model = AutoModelForCausalLM.from_pretrained(model_path).to(\"mps\")\n",
    "messages = [\n",
    "    {\"role\": \"system\", \"content\": \"请扮演柯南,以柯南的口吻、视角和思维回答问题.\"},\n",
    "    {\"role\": \"user\", \"content\": sanitized_instruction},\n",
    "]\n",
    "text = tokenizer.apply_chat_template(\n",
    "    messages, tokenize=False, add_generation_prompt=True\n",
    ")\n",
    "model_inputs = tokenizer([text], return_tensors=\"pt\").to(model.device)\n",
    "\n",
    "generated_ids = model.generate(**model_inputs, max_new_tokens=512)\n",
    "generated_ids = [\n",
    "    output_ids[len(input_ids) :]\n",
    "    for input_ids, output_ids in zip(model_inputs.input_ids, generated_ids)\n",
    "]\n",
    "\n",
    "response = tokenizer.batch_decode(generated_ids, skip_special_tokens=True)[0]\n",
    "\n",
    "print(f\"User's message: {sanitized_instruction}\")\n",
    "print(\"-\" * 200, end=\"\\n\\n\")\n",
    "print(f\"Assitant's response: {response}\")"
   ]
  },
  {
   "cell_type": "code",
   "execution_count": null,
   "metadata": {},
   "outputs": [],
   "source": []
  }
 ],
 "metadata": {
  "kernelspec": {
   "display_name": ".venv",
   "language": "python",
   "name": "python3"
  },
  "language_info": {
   "codemirror_mode": {
    "name": "ipython",
    "version": 3
   },
   "file_extension": ".py",
   "mimetype": "text/x-python",
   "name": "python",
   "nbconvert_exporter": "python",
   "pygments_lexer": "ipython3",
   "version": "3.11.8"
  }
 },
 "nbformat": 4,
 "nbformat_minor": 2
}
