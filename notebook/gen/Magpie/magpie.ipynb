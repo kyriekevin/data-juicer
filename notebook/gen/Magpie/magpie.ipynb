{
 "cells": [
  {
   "cell_type": "code",
   "execution_count": 1,
   "metadata": {},
   "outputs": [
    {
     "name": "stderr",
     "output_type": "stream",
     "text": [
      "/Volumes/study/github/data-juicer/.venv/lib/python3.11/site-packages/tqdm/auto.py:21: TqdmWarning: IProgress not found. Please update jupyter and ipywidgets. See https://ipywidgets.readthedocs.io/en/stable/user_install.html\n",
      "  from .autonotebook import tqdm as notebook_tqdm\n"
     ]
    }
   ],
   "source": [
    "import transformers\n",
    "from transformers import AutoTokenizer, AutoModelForCausalLM"
   ]
  },
  {
   "cell_type": "code",
   "execution_count": 2,
   "metadata": {},
   "outputs": [],
   "source": [
    "model_config = {\n",
    "    \"stop_tokens\": [\"<|im_start|>\", \"<|im_end|>\", \"<|endoftext|>\"],\n",
    "    \"stop_token_ids\": [151643, 151644, 151645],\n",
    "    \"stop_tokens_assistant\": [\"Assistant\", \"assistant\"],\n",
    "    \"pre_query_template\": \"<|im_start|>system\\nYou are Qwen, created by Alibaba Cloud. You are a helpful assistant.<|im_end|>\\n<|im_start|>user\\n\",\n",
    "}\n",
    "model_path = \"../../../models/Qwen2.5-3B-Instruct\""
   ]
  },
  {
   "cell_type": "code",
   "execution_count": 3,
   "metadata": {},
   "outputs": [
    {
     "name": "stderr",
     "output_type": "stream",
     "text": [
      "Loading checkpoint shards: 100%|██████████| 2/2 [00:07<00:00,  3.72s/it]\n",
      "Device set to use mps\n"
     ]
    }
   ],
   "source": [
    "tokenizer = AutoTokenizer.from_pretrained(model_path)\n",
    "pipeline = transformers.pipeline(\n",
    "    \"text-generation\", model=model_path, tokenizer=tokenizer, device=\"mps\"\n",
    ")"
   ]
  },
  {
   "cell_type": "code",
   "execution_count": 4,
   "metadata": {},
   "outputs": [
    {
     "name": "stdout",
     "output_type": "stream",
     "text": [
      "<|im_start|>system\n",
      "You are Qwen, created by Alibaba Cloud. You are a helpful assistant.<|im_end|>\n",
      "<|im_start|>user\n",
      "\n"
     ]
    }
   ],
   "source": [
    "pre_query_template = model_config[\"pre_query_template\"]\n",
    "print(pre_query_template)"
   ]
  },
  {
   "cell_type": "code",
   "execution_count": 5,
   "metadata": {},
   "outputs": [
    {
     "name": "stdout",
     "output_type": "stream",
     "text": [
      "Extracted Instruction: If an alien visits Earth and sees the complex system of roads and public transportation used to transport people around cities, how might they interpret this as part of civilization?\n"
     ]
    }
   ],
   "source": [
    "instruction = pipeline(\n",
    "    pre_query_template,\n",
    "    max_new_tokens=2048,\n",
    "    eos_token_id=tokenizer.eos_token_id,\n",
    "    do_sample=True,\n",
    "    temperature=1,\n",
    "    top_p=1,\n",
    ")\n",
    "\n",
    "sanitized_instruction = instruction[0][\"generated_text\"][\n",
    "    len(pre_query_template) :\n",
    "].split(\"\\n\")[0]\n",
    "print(f\"Extracted Instruction: {sanitized_instruction}\")"
   ]
  },
  {
   "cell_type": "code",
   "execution_count": 6,
   "metadata": {},
   "outputs": [
    {
     "name": "stderr",
     "output_type": "stream",
     "text": [
      "Loading checkpoint shards: 100%|██████████| 2/2 [00:05<00:00,  2.73s/it]\n"
     ]
    }
   ],
   "source": [
    "model = AutoModelForCausalLM.from_pretrained(model_path).to(\"mps\")\n",
    "messages = [\n",
    "    {\n",
    "        \"role\": \"system\",\n",
    "        \"content\": \"You are Qwen, created by Alibaba Cloud. You are a helpful assistant.\",\n",
    "    },\n",
    "    {\"role\": \"user\", \"content\": sanitized_instruction},\n",
    "]\n",
    "text = tokenizer.apply_chat_template(\n",
    "    messages, tokenize=False, add_generation_prompt=True\n",
    ")\n",
    "model_inputs = tokenizer([text], return_tensors=\"pt\").to(model.device)\n",
    "\n",
    "generated_ids = model.generate(**model_inputs, max_new_tokens=512)\n",
    "generated_ids = [\n",
    "    output_ids[len(input_ids) :]\n",
    "    for input_ids, output_ids in zip(model_inputs.input_ids, generated_ids)\n",
    "]\n",
    "\n",
    "response = tokenizer.batch_decode(generated_ids, skip_special_tokens=True)[0]"
   ]
  },
  {
   "cell_type": "code",
   "execution_count": 7,
   "metadata": {},
   "outputs": [
    {
     "name": "stdout",
     "output_type": "stream",
     "text": [
      "User's message: If an alien visits Earth and sees the complex system of roads and public transportation used to transport people around cities, how might they interpret this as part of civilization?\n",
      "----------------------------------------------------------------------------------------------------\n",
      "Assitant's response: An alien visitor might interpret the complex system of roads and public transportation in Earth's cities from several perspectives, considering their advanced technology and unique environment. Here’s how they might analyze it:\n",
      "\n",
      "1. **Communication and Coordination**: The alien might observe that these systems are highly coordinated and well-maintained, indicating a sophisticated level of communication and organization. The ability to move large numbers of people efficiently suggests a strong social structure capable of planning and executing large-scale projects.\n",
      "\n",
      "2. **Resource Management**: Public transportation systems often involve significant infrastructure and require substantial resources. The alien could infer that the society uses its resources efficiently, including energy, materials, and labor, to manage and maintain these systems.\n",
      "\n",
      "3. **Economic Functionality**: Transportation networks are crucial for economic activity. The alien might notice that these systems facilitate trade, commerce, and movement of goods and services, which is essential for any society’s economy.\n",
      "\n",
      "4. **Social Structure**: The presence of extensive road networks and public transportation suggests a structured social order where individuals have specific roles and responsibilities related to maintaining these infrastructures. This could indicate a division of labor and a hierarchical society.\n",
      "\n",
      "5. **Technological Integration**: Public transportation systems often rely on advanced technologies such as traffic management systems, GPS navigation, automated fare collection, and electronic ticketing. The alien might recognize these as signs of technological advancement and innovation.\n",
      "\n",
      "6. **Urban Planning**: Cities with efficient transportation systems likely have well-planned urban layouts and zoning, suggesting a degree of foresight and strategic thinking in city development.\n",
      "\n",
      "7. **Environmental Impact**: The alien might also consider the environmental impact of these systems, noting how they affect air quality, noise pollution, and other ecological factors, which could be important considerations for sustainable development.\n",
      "\n",
      "8. **Societal Norms and Behavior**: By observing how people interact with these systems (e.g., following traffic rules, waiting for buses), the alien might infer societal norms and behaviors related to responsibility, adherence to rules, and community engagement.\n",
      "\n",
      "Overall, the alien would likely see these transportation systems as indicators of a highly organized, technologically advanced, and socially complex civilization.\n"
     ]
    }
   ],
   "source": [
    "print(f\"User's message: {sanitized_instruction}\")\n",
    "print(\"-\" * 100)\n",
    "print(f\"Assitant's response: {response}\")"
   ]
  },
  {
   "cell_type": "code",
   "execution_count": null,
   "metadata": {},
   "outputs": [],
   "source": []
  }
 ],
 "metadata": {
  "kernelspec": {
   "display_name": ".venv",
   "language": "python",
   "name": "python3"
  },
  "language_info": {
   "codemirror_mode": {
    "name": "ipython",
    "version": 3
   },
   "file_extension": ".py",
   "mimetype": "text/x-python",
   "name": "python",
   "nbconvert_exporter": "python",
   "pygments_lexer": "ipython3",
   "version": "3.11.8"
  }
 },
 "nbformat": 4,
 "nbformat_minor": 2
}
