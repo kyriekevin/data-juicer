{
    "cells": [
        {
            "cell_type": "code",
            "execution_count": 1,
            "id": "47e2e432",
            "metadata": {
                "trusted": true
            },
            "outputs": [],
            "source": "import os\n\nfrom openai import AzureOpenAI\n\napi_key = os.environ[\"AZURE_OPENAI_API_KEY\"]\nendpoint = os.environ[\"AZURE_ENDPOINT\"]\ndeployment = os.environ[\"AZURE_DEPLOYMENT\"]\napi_version = os.environ[\"AZURE_API_VERSION\"]"
        },
        {
            "cell_type": "code",
            "execution_count": 2,
            "id": "99c6504c",
            "metadata": {
                "trusted": true
            },
            "outputs": [],
            "source": "def init_client():\n    client = AzureOpenAI(\n        api_key=api_key,\n        api_version=api_version,\n        base_url=f\"{endpoint}/openai/deployments/{deployment}\",\n    )\n    return client\n\n\nclient = init_client()"
        },
        {
            "cell_type": "code",
            "execution_count": 3,
            "id": "1f518133",
            "metadata": {
                "trusted": true
            },
            "outputs": [],
            "source": "def inference(client, message):\n    try:\n        response = client.chat.completions.create(\n            model=deployment, messages=message, max_tokens=2048\n        )\n        response = response.choices[0].message.content\n    except Exception as e:\n        response = str(e)\n    return response"
        },
        {
            "cell_type": "markdown",
            "id": "258131c0",
            "metadata": {},
            "source": "## Generate instructions"
        },
        {
            "cell_type": "code",
            "execution_count": 4,
            "id": "05af454c",
            "metadata": {
                "trusted": true
            },
            "outputs": [
                {
                    "name": "stdout",
                    "output_type": "stream",
                    "text": "\"Can you provide a summary of recent research on nudging techniques that effectively encourage sustainable consumer behavior? I'm particularly interested in practical applications and case studies that illustrate how these strategies have been implemented successfully.\"\n"
                }
            ],
            "source": "PROMPT_TEMPLATE = (\n    \"\"\"Generate a prompt the persona below might ask to an AI assistant:\\n\"\"\"\n)\n\nsystem_prompt = \"You are an AI assistant expert at simulating user interactions.\"\nexample_persona = \"A behavioral economist or social psychologist interested in exploring strategies for influencing human decision-making and behavior change.\"\n\nmessages = [\n    {\"role\": \"system\", \"content\": system_prompt},\n    {\"role\": \"user\", \"content\": PROMPT_TEMPLATE + example_persona},\n]\nprint(inference(client, messages))"
        },
        {
            "cell_type": "markdown",
            "id": "f8b757ab",
            "metadata": {},
            "source": "## Generate diverse text for pre-training and post-training"
        },
        {
            "cell_type": "code",
            "execution_count": 5,
            "id": "2208b7dc",
            "metadata": {
                "trusted": true
            },
            "outputs": [
                {
                    "name": "stdout",
                    "output_type": "stream",
                    "text": "**Title: The Role of Economic Incentives in Transforming Education Outcomes**\n\nAs an economist specializing in education policy and research, I often find myself grappling with a compelling question: How do we leverage economic incentives to foster better educational outcomes? The intersection of economics and education is fascinating, particularly when you consider the quantitative data on student performance and resource allocation.\n\n**Understanding the Economics of Education**\n\nAt its core, education is an investment\u2014both at the individual and societal levels. Just as in any market, the principles of supply and demand can be observed in educational systems: there is a demand for quality education, and various factors contribute to the supply side\u2014teacher quality, curriculum effectiveness, and school funding, to name a few. \n\nWhen analyzing education policies, one must look at the incentives embedded within them. For instance, programs that provide financial aid based on performance metrics, such as grades or standardized test scores, can motivate students to achieve better outcomes. However, we must also critically examine the unintended consequences these incentives might create, such as an overemphasis on test scores at the expense of holistic learning experiences.\n\n**Quantitative Analysis: Measuring Impact**\n\nThe beauty of education policy research lies in its ability to quantify the effects of interventions. By utilizing robust statistical methods, we can draw connections between various variables\u2014such as funding levels, teacher-student ratios, and socio-economic status\u2014and student performance. Research has consistently shown that targeted investments in education, especially those that address disparities in disadvantaged communities, yield significant returns in both economic terms and social equity.\n\nOne standout example is the impact of early childhood education programs. Studies have found that high-quality early education can lead to long-lasting benefits, including higher wages and reduced crime rates, embodying the adage that investing wisely in our youth pays dividends for society as a whole.\n\n**Policy Recommendations Moving Forward**\n\nAs we navigate the complexities of education reform, I encourage policymakers to consider the following:\n\n1. **Tailored Incentives**: Design programs that align financial incentives with desired educational outcomes while avoiding pitfalls like \"teaching to the test.\"\n\n2. **Data-Driven Decisions**: Harness the power of data analytics to assess which policies are yielding real results and be willing to adapt based on empirical evidence.\n\n3. **Community Engagement**: Understand that each community has unique challenges. Engaging local stakeholders can help ensure that policies are not only effective but also culturally relevant.\n\n4. **Long-term Investment**: Viewing education as a long-term investment rather than a short-term expenditure can fundamentally shift how we allocate resources and measure success.\n\nIn conclusion, education policy is fundamentally tied to economic principles. By carefully crafting incentives and rigorously analyzing outcomes, we can work toward a future where every student has the opportunity to thrive academically and economically. The path to reform is complex, but with informed, data-driven strategies, we can navigate it effectively.\n\nI welcome your thoughts and insights on this topic. How do you see economic incentives shaping the future of education?\n"
                }
            ],
            "source": "PROMPT_TEMPLATE = \"\"\"Write a Quora post in the language, style, and personality of the following persona:\\n\"\"\"\n\nsystem_prompt = \"You are an AI assistant specialized in writing posts for social media.\"\nexample_persona = \"An economist specializing in education policy and research, likely with a background in quantitative analysis and public policy.\"\n\nmessages = [\n    {\"role\": \"system\", \"content\": system_prompt},\n    {\"role\": \"user\", \"content\": PROMPT_TEMPLATE + example_persona},\n]\nprint(inference(client, messages))"
        },
        {
            "cell_type": "markdown",
            "id": "4bd3e9b2",
            "metadata": {},
            "source": "## Generate persona-specific problems"
        },
        {
            "cell_type": "code",
            "execution_count": 6,
            "id": "d58543f4",
            "metadata": {
                "trusted": true
            },
            "outputs": [
                {
                    "name": "stdout",
                    "output_type": "stream",
                    "text": "A behavioral economist is conducting a study to analyze how different incentive structures affect individuals' saving behavior. In a controlled experiment, 120 participants are divided into three groups of 40:\n\n1. **Group A** receives a **10% monetary bonus** on any savings amount they deposit in a special account each month.\n2. **Group B** receives a **fixed monthly bonus** of $50, irrespective of the savings amount they deposit.\n3. **Group C** does not receive any financial incentive but is provided with weekly workshops on the benefits of saving and budgeting.\n\nAt the end of a 6-month period, the total savings accumulated by each group is measured. It is found that:\n\n- Group A's average savings per participant is $900.\n- Group B's average savings per participant is $600.\n- Group C's average savings per participant is $400.\n\n**Question:** \n\na) Calculate the total amount of savings accumulated by all participants in each group at the end of 6 months.\n\nb) Based on the data gathered, determine the ratio of total savings of Group A to Group B, and Group A to Group C.\n\nc) If the behavioral economist decides to implement a new program where Group B participants receive an additional 5% increase on the total savings achieved at the end of the experiment, how much total savings would Group B accumulate now? \n\nd) Discuss how the different structures could potentially influence group behaviors in terms of savings, considering psychological factors.\n"
                }
            ],
            "source": "PROMPT_TEMPLATE = \"\"\"Create a challenging math problem with the following persona:\\n\"\"\"\n\nsystem_prompt = \"You are an AI assistant specialized in creating diverse but specific math problems. Just answer with your problem.\"\nexample_persona = \"A behavioral economist or social psychologist interested in exploring strategies for influencing human decision-making and behavior change.\"\n\nmessages = [\n    {\"role\": \"system\", \"content\": system_prompt},\n    {\"role\": \"user\", \"content\": PROMPT_TEMPLATE + example_persona},\n]\nprint(inference(client, messages))"
        }
    ],
    "metadata": {
        "kernelspec": {
            "display_name": "Python 3 (ipykernel)",
            "language": "python",
            "name": "python3"
        },
        "language_info": {
            "codemirror_mode": {
                "name": "ipython",
                "version": 3
            },
            "file_extension": ".py",
            "mimetype": "text/x-python",
            "name": "python",
            "nbconvert_exporter": "python",
            "pygments_lexer": "ipython3",
            "version": "3.12.7"
        }
    },
    "nbformat": 4,
    "nbformat_minor": 5
}
