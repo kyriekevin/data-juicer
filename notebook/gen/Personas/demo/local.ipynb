{
    "cells": [
        {
            "cell_type": "code",
            "execution_count": 1,
            "id": "88b7f2a3",
            "metadata": {
                "trusted": true
            },
            "outputs": [
                {
                    "name": "stderr",
                    "output_type": "stream",
                    "text": "/Users/bytedance/dev/data-juicer/.venv/lib/python3.12/site-packages/tqdm/auto.py:21: TqdmWarning: IProgress not found. Please update jupyter and ipywidgets. See https://ipywidgets.readthedocs.io/en/stable/user_install.html\n  from .autonotebook import tqdm as notebook_tqdm\nLoading checkpoint shards: 100%|\u2588\u2588\u2588\u2588\u2588\u2588\u2588\u2588\u2588\u2588| 2/2 [00:03<00:00,  1.70s/it]\n"
                }
            ],
            "source": "from transformers import AutoModelForCausalLM, AutoTokenizer\n\nmodel_path = \"../../../models/Qwen2.5-3B-Instruct\"\n\nmodel = AutoModelForCausalLM.from_pretrained(model_path).to(\"mps\")\ntokenizer = AutoTokenizer.from_pretrained(model_path)"
        },
        {
            "cell_type": "code",
            "execution_count": 2,
            "id": "e01434c2",
            "metadata": {
                "trusted": true
            },
            "outputs": [],
            "source": "def inference(messages, model, tokenizer):\n    text = tokenizer.apply_chat_template(\n        messages, tokenize=False, add_generation_prompt=True\n    )\n    model_inputs = tokenizer([text], return_tensors=\"pt\").to(model.device)\n    generated_ids = model.generate(**model_inputs, max_new_tokens=512)\n    generated_ids = [\n        output_ids[len(input_ids) :]\n        for input_ids, output_ids in zip(model_inputs.input_ids, generated_ids)\n    ]\n    response = tokenizer.batch_decode(generated_ids, skip_special_tokens=True)[0]\n    return response"
        },
        {
            "cell_type": "markdown",
            "id": "71b38736",
            "metadata": {},
            "source": "## Generate instructions"
        },
        {
            "cell_type": "code",
            "execution_count": 3,
            "id": "8cb8e7e4",
            "metadata": {
                "trusted": true
            },
            "outputs": [
                {
                    "name": "stdout",
                    "output_type": "stream",
                    "text": "Sure, here's a prompt a behavioral economist or social psychologist might ask an AI assistant:\n\n\"How can we design interventions to effectively influence individual behaviors towards more sustainable practices, such as reducing plastic usage, while also considering factors like social norms and personal values?\"\n"
                }
            ],
            "source": "PROMPT_TEMPLATE = (\n    \"\"\"Generate a prompt the persona below might ask to an AI assistant:\\n\"\"\"\n)\n\nsystem_prompt = \"You are an AI assistant expert at simulating user interactions.\"\nexample_persona = \"A behavioral economist or social psychologist interested in exploring strategies for influencing human decision-making and behavior change.\"\n\nmessages = [\n    {\"role\": \"system\", \"content\": system_prompt},\n    {\"role\": \"user\", \"content\": PROMPT_TEMPLATE + example_persona},\n]\nprint(inference(messages, model, tokenizer))"
        },
        {
            "cell_type": "markdown",
            "id": "500d9bff",
            "metadata": {},
            "source": "## Generate diverse text for pre-training and post-training"
        },
        {
            "cell_type": "code",
            "execution_count": 4,
            "id": "eea29e32",
            "metadata": {
                "trusted": true
            },
            "outputs": [
                {
                    "name": "stdout",
                    "output_type": "stream",
                    "text": "Absolutely! Let's dive into the fascinating world of how education policies impact our society. As an economist focusing on education, I often find myself analyzing data and figures to understand the ripple effects of educational reforms. Today, let\u2019s explore one of the most crucial questions: How does early childhood education influence long-term economic outcomes?\n\nEarly childhood education programs have been shown to have a profound impact on children's development and future success. Research indicates that children who attend quality preschools tend to have better academic performance, higher graduation rates, and lower rates of criminal behavior as adults. This is not just about better test scores; it's about laying a solid foundation for lifelong learning and success.\n\nBut here\u2019s where things get interesting \u2013 the return on investment in early childhood education is significant. Studies show that for every dollar spent on high-quality preschool programs, we can expect a return of between $7 and $12 in increased earnings over the course of a lifetime. That\u2019s a substantial boost in productivity and economic growth!\n\nHowever, it\u2019s important to note that not all early childhood education programs are created equal. Quality matters greatly. Programs that provide comprehensive support for both children and their families yield the highest returns. This includes nutrition assistance, health screenings, and family engagement initiatives.\n\nMoreover, there\u2019s a growing body of evidence suggesting that early education benefits not only individuals but also communities and economies at large. For instance, neighborhoods with higher levels of early education tend to have lower crime rates and greater economic stability.\n\nSo, if we want to build a stronger economy and a more equitable society, investing in quality early childhood education should be a top priority. It\u2019s not just about the individual child; it\u2019s about creating a brighter future for everyone.\n\nWhat do you think? Have you seen the positive impacts of early childhood education in your community or through personal experience? Share your thoughts below!\n\n#EducationPolicy #EarlyChildhoodEducation #EconomicOutcomes\n"
                }
            ],
            "source": "PROMPT_TEMPLATE = \"\"\"Write a Quora post in the language, style, and personality of the following persona:\\n\"\"\"\n\nsystem_prompt = \"You are an AI assistant specialized in writing posts for social media.\"\nexample_persona = \"An economist specializing in education policy and research, likely with a background in quantitative analysis and public policy.\"\n\nmessages = [\n    {\"role\": \"system\", \"content\": system_prompt},\n    {\"role\": \"user\", \"content\": PROMPT_TEMPLATE + example_persona},\n]\nprint(inference(messages, model, tokenizer))"
        },
        {
            "cell_type": "markdown",
            "id": "545ed990",
            "metadata": {},
            "source": "## Generate persona-specific problems"
        },
        {
            "cell_type": "code",
            "execution_count": 5,
            "id": "0899150a",
            "metadata": {
                "trusted": true
            },
            "outputs": [
                {
                    "name": "stdout",
                    "output_type": "stream",
                    "text": "A behavioral economist is designing a study to explore how framing affects people's decisions regarding saving for retirement. Participants are given two options: \n\nOption A: \"Save $500 per month for 30 years starting today.\"\nOption B: \"Do not save anything now, but if you wait 30 years, you will receive $1,240,000.\"\n\nParticipants are randomly assigned to one of these options. The economist then observes which option participants choose and their stated reasons for their choice.\n\nThe question is: If a participant chooses Option B, what strategy would be most effective in encouraging them to switch to Option A, considering psychological principles like loss aversion and mental accounting? Provide at least three strategies and explain why each might work.\n"
                }
            ],
            "source": "PROMPT_TEMPLATE = \"\"\"Create a challenging math problem with the following persona:\\n\"\"\"\n\nsystem_prompt = \"You are an AI assistant specialized in creating diverse but specific math problems. Just answer with your problem.\"\nexample_persona = \"A behavioral economist or social psychologist interested in exploring strategies for influencing human decision-making and behavior change.\"\n\nmessages = [\n    {\"role\": \"system\", \"content\": system_prompt},\n    {\"role\": \"user\", \"content\": PROMPT_TEMPLATE + example_persona},\n]\nprint(inference(messages, model, tokenizer))"
        }
    ],
    "metadata": {
        "kernelspec": {
            "display_name": "Python 3 (ipykernel)",
            "language": "python",
            "name": "python3"
        },
        "language_info": {
            "codemirror_mode": {
                "name": "ipython",
                "version": 3
            },
            "file_extension": ".py",
            "mimetype": "text/x-python",
            "name": "python",
            "nbconvert_exporter": "python",
            "pygments_lexer": "ipython3",
            "version": "3.12.7"
        }
    },
    "nbformat": 4,
    "nbformat_minor": 5
}
