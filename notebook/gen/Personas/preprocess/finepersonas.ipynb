{
 "cells": [
  {
   "cell_type": "code",
   "execution_count": 1,
   "id": "c83bb8f4",
   "metadata": {
    "trusted": true
   },
   "outputs": [
    {
     "name": "stderr",
     "output_type": "stream",
     "text": "/Users/zyz/Study/github/LLM-Data-Recipe/.venv/lib/python3.11/site-packages/tqdm/auto.py:21: TqdmWarning: IProgress not found. Please update jupyter and ipywidgets. See https://ipywidgets.readthedocs.io/en/stable/user_install.html\n  from .autonotebook import tqdm as notebook_tqdm\n"
    }
   ],
   "source": [
    "import os\n",
    "import json\n",
    "from tqdm import tqdm\n",
    "from pathlib import Path\n",
    "from src.utils.file_io import load_custom_dataset, write_file\n",
    "\n",
    "DATA_DIR = Path(os.environ[\"DATA_DIR\"]) / \"raw\" / \"General\""
   ]
  },
  {
   "cell_type": "code",
   "execution_count": 2,
   "id": "6719e915",
   "metadata": {
    "trusted": true
   },
   "outputs": [
    {
     "name": "stdout",
     "output_type": "stream",
     "text": "DatasetDict({\n    train: Dataset({\n        features: ['id', 'persona', 'labels'],\n        num_rows: 21071228\n    })\n})\n"
    }
   ],
   "source": [
    "try:\n",
    "    ds = load_custom_dataset(DATA_DIR, \"FinePersonas\")\n",
    "    print(ds)\n",
    "except Exception as e:\n",
    "    print(f\"Error loading dataset: {e}\")"
   ]
  },
  {
   "cell_type": "code",
   "execution_count": 3,
   "id": "76ce20bb",
   "metadata": {
    "trusted": true
   },
   "outputs": [
    {
     "name": "stderr",
     "output_type": "stream",
     "text": "100%|██████████| 21071228/21071228 [04:47<00:00, 73228.29it/s]\n"
    }
   ],
   "source": [
    "res = []\n",
    "for item in tqdm(ds[\"train\"]):\n",
    "    persona = item[\"persona\"]\n",
    "    topic = item[\"labels\"]\n",
    "    topic = json.loads(topic)\n",
    "    if len(topic) == 0 or topic == \"None\":\n",
    "        continue\n",
    "    res.append({\"persona\": persona, \"topic\": topic})"
   ]
  },
  {
   "cell_type": "code",
   "execution_count": 4,
   "id": "c5474913",
   "metadata": {
    "trusted": true
   },
   "outputs": [
    {
     "name": "stderr",
     "output_type": "stream",
     "text": "100%|██████████| 20181587/20181587 [00:49<00:00, 410739.29it/s]\n"
    }
   ],
   "source": [
    "write_file(str(DATA_DIR / \"FinePersonas.jsonl\"), res)"
   ]
  }
 ],
 "metadata": {
  "kernelspec": {
   "display_name": "Python 3 (ipykernel)",
   "language": "python",
   "name": "python3"
  },
  "language_info": {
   "codemirror_mode": {
    "name": "ipython",
    "version": 3
   },
   "file_extension": ".py",
   "mimetype": "text/x-python",
   "name": "python",
   "nbconvert_exporter": "python",
   "pygments_lexer": "ipython3",
   "version": "3.11.8"
  }
 },
 "nbformat": 4,
 "nbformat_minor": 5
}
