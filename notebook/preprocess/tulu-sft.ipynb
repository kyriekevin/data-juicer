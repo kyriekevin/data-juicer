{
 "cells": [
  {
   "cell_type": "code",
   "execution_count": 1,
   "metadata": {},
   "outputs": [],
   "source": [
    "from src.utils.file_io import read_files, write_files\n",
    "from src.utils.conv_formatters import format_multi_turn_conv\n",
    "\n",
    "from collections import defaultdict\n",
    "from pathlib import Path\n",
    "from tqdm import tqdm"
   ]
  },
  {
   "cell_type": "code",
   "execution_count": 2,
   "metadata": {},
   "outputs": [],
   "source": [
    "DATASET = \"tulu-sft\"\n",
    "DOMAIN = \"General\"\n",
    "VERSION = \"v0\"\n",
    "\n",
    "DATA_FOLDER = Path(\"../../data\").resolve()\n",
    "INPUT_FOLDER = DATA_FOLDER / \"raw/\" / DATASET\n",
    "OUTPUT_FOLDER = DATA_FOLDER / \"interim\""
   ]
  },
  {
   "cell_type": "code",
   "execution_count": 3,
   "metadata": {},
   "outputs": [
    {
     "name": "stdout",
     "output_type": "stream",
     "text": [
      "Processing file: train-00000-of-00006.parquet\n"
     ]
    },
    {
     "name": "stderr",
     "output_type": "stream",
     "text": [
      "Processing train-00000-of-00006.parquet: 100%|██████████| 156558/156558 [00:02<00:00, 63318.21it/s]\n"
     ]
    },
    {
     "name": "stdout",
     "output_type": "stream",
     "text": [
      "Processing file: train-00004-of-00006.parquet\n"
     ]
    },
    {
     "name": "stderr",
     "output_type": "stream",
     "text": [
      "Processing train-00004-of-00006.parquet: 100%|██████████| 156557/156557 [00:02<00:00, 68453.87it/s]\n"
     ]
    },
    {
     "name": "stdout",
     "output_type": "stream",
     "text": [
      "Processing file: train-00001-of-00006.parquet\n"
     ]
    },
    {
     "name": "stderr",
     "output_type": "stream",
     "text": [
      "Processing train-00001-of-00006.parquet: 100%|██████████| 156557/156557 [00:02<00:00, 64510.93it/s]\n"
     ]
    },
    {
     "name": "stdout",
     "output_type": "stream",
     "text": [
      "Processing file: train-00005-of-00006.parquet\n"
     ]
    },
    {
     "name": "stderr",
     "output_type": "stream",
     "text": [
      "Processing train-00005-of-00006.parquet: 100%|██████████| 156557/156557 [00:02<00:00, 69056.58it/s]\n"
     ]
    },
    {
     "name": "stdout",
     "output_type": "stream",
     "text": [
      "Processing file: train-00002-of-00006.parquet\n"
     ]
    },
    {
     "name": "stderr",
     "output_type": "stream",
     "text": [
      "Processing train-00002-of-00006.parquet: 100%|██████████| 156557/156557 [00:02<00:00, 68250.91it/s]\n"
     ]
    },
    {
     "name": "stdout",
     "output_type": "stream",
     "text": [
      "Processing file: train-00003-of-00006.parquet\n"
     ]
    },
    {
     "name": "stderr",
     "output_type": "stream",
     "text": [
      "Processing train-00003-of-00006.parquet: 100%|██████████| 156557/156557 [00:02<00:00, 73668.01it/s]"
     ]
    },
    {
     "name": "stdout",
     "output_type": "stream",
     "text": [
      "Total errors: 751\n"
     ]
    },
    {
     "name": "stderr",
     "output_type": "stream",
     "text": [
      "\n"
     ]
    }
   ],
   "source": [
    "processed_data = defaultdict(lambda: defaultdict(list))\n",
    "\n",
    "error_cnt = 0\n",
    "for file_name, content in read_files(INPUT_FOLDER, file_type=\"parquet\"):\n",
    "    print(f\"Processing file: {file_name}\")\n",
    "\n",
    "    for _, row in tqdm(\n",
    "        content.iterrows(), total=len(content), desc=f\"Processing {file_name}\"\n",
    "    ):\n",
    "        try:\n",
    "            formatted_item = format_multi_turn_conv(row[\"messages\"])\n",
    "            processed_data[DOMAIN][DATASET].append(formatted_item)\n",
    "        except Exception as e:\n",
    "            error_cnt += 1\n",
    "\n",
    "print(f\"Total errors: {error_cnt}\")"
   ]
  },
  {
   "cell_type": "code",
   "execution_count": 4,
   "metadata": {},
   "outputs": [
    {
     "name": "stderr",
     "output_type": "stream",
     "text": [
      "Writing data to /Volumes/study/github/data-juicer/data/interim/v0: 100%|██████████| 938592/938592 [00:13<00:00, 67845.99it/s] \n"
     ]
    }
   ],
   "source": [
    "write_files(OUTPUT_FOLDER, VERSION, processed_data)"
   ]
  }
 ],
 "metadata": {
  "kernelspec": {
   "display_name": ".venv",
   "language": "python",
   "name": "python3"
  },
  "language_info": {
   "codemirror_mode": {
    "name": "ipython",
    "version": 3
   },
   "file_extension": ".py",
   "mimetype": "text/x-python",
   "name": "python",
   "nbconvert_exporter": "python",
   "pygments_lexer": "ipython3",
   "version": "3.11.8"
  }
 },
 "nbformat": 4,
 "nbformat_minor": 2
}
